{
 "cells": [
  {
   "cell_type": "markdown",
   "metadata": {},
   "source": [
    "# Import Data\n"
   ]
  },
  {
   "cell_type": "markdown",
   "metadata": {},
   "source": [
    "## Import and Install"
   ]
  },
  {
   "cell_type": "code",
   "execution_count": 53,
   "metadata": {},
   "outputs": [
    {
     "name": "stdout",
     "output_type": "stream",
     "text": [
      "Requirement already satisfied: pandas in /Users/I549511/.pyenv/versions/3.10.13/lib/python3.10/site-packages (2.2.2)\n",
      "Requirement already satisfied: numpy>=1.22.4 in /Users/I549511/.pyenv/versions/3.10.13/lib/python3.10/site-packages (from pandas) (1.26.4)\n",
      "Requirement already satisfied: python-dateutil>=2.8.2 in /Users/I549511/.pyenv/versions/3.10.13/lib/python3.10/site-packages (from pandas) (2.9.0.post0)\n",
      "Requirement already satisfied: pytz>=2020.1 in /Users/I549511/.pyenv/versions/3.10.13/lib/python3.10/site-packages (from pandas) (2024.1)\n",
      "Requirement already satisfied: tzdata>=2022.7 in /Users/I549511/.pyenv/versions/3.10.13/lib/python3.10/site-packages (from pandas) (2024.1)\n",
      "Requirement already satisfied: six>=1.5 in /Users/I549511/.pyenv/versions/3.10.13/lib/python3.10/site-packages (from python-dateutil>=2.8.2->pandas) (1.16.0)\n",
      "Note: you may need to restart the kernel to use updated packages.\n"
     ]
    }
   ],
   "source": [
    "%pip install pandas\n",
    "\n",
    "import pandas as pd\n",
    "import os\n",
    "import urllib.request\n",
    "import zipfile"
   ]
  },
  {
   "cell_type": "markdown",
   "metadata": {},
   "source": [
    "## Get Data"
   ]
  },
  {
   "cell_type": "code",
   "execution_count": 54,
   "metadata": {},
   "outputs": [],
   "source": [
    "DATA_URL = 'https://files.grouplens.org/datasets/movielens/ml-latest.zip'\n",
    "DATA_DIR = '../data'\n",
    "DATA_FILE = 'ml-latest.zip'\n",
    "\n",
    "data_path = os.path.join(DATA_DIR, DATA_FILE)\n",
    "\n",
    "if not os.path.exists(data_path):\n",
    "    urllib.request.urlretrieve(DATA_URL, data_path)\n",
    "    with zipfile.ZipFile(data_path, 'r') as zip_ref:\n",
    "        zip_ref.extractall(DATA_DIR)"
   ]
  },
  {
   "cell_type": "markdown",
   "metadata": {},
   "source": [
    "## Load Data"
   ]
  },
  {
   "cell_type": "code",
   "execution_count": 55,
   "metadata": {},
   "outputs": [],
   "source": [
    "def load_data():\n",
    "    # Define the paths to the files\n",
    "    movies_path = os.path.join(DATA_DIR, 'ml-latest-small', 'movies.csv')\n",
    "    ratings_path = os.path.join(DATA_DIR, 'ml-latest-small', 'ratings.csv')\n",
    "    tags_path = os.path.join(DATA_DIR, 'ml-latest-small', 'tags.csv')\n",
    "    links_path = os.path.join(DATA_DIR, 'ml-latest-small', 'links.csv')\n",
    "\n",
    "    # Load the data into pandas DataFrames\n",
    "    movies_df = pd.read_csv(movies_path)\n",
    "    ratings_df = pd.read_csv(ratings_path)\n",
    "    tags_df = pd.read_csv(tags_path)\n",
    "    links_df = pd.read_csv(links_path)\n",
    "    \n",
    "    return movies_df, ratings_df, tags_df, links_df"
   ]
  },
  {
   "cell_type": "markdown",
   "metadata": {},
   "source": [
    "# Data Exploration\n",
    "What data exploration methods do we need?"
   ]
  },
  {
   "cell_type": "markdown",
   "metadata": {},
   "source": [
    "# Train Models"
   ]
  },
  {
   "cell_type": "markdown",
   "metadata": {},
   "source": [
    "## Content-Based\n",
    "This is a function to train a content based recommendation model\n",
    "\n"
   ]
  },
  {
   "cell_type": "code",
   "execution_count": 56,
   "metadata": {},
   "outputs": [],
   "source": [
    "def train_content_based_model(movies, ratings, tags, links) :\n",
    "    print(\"Training content-based model\")"
   ]
  },
  {
   "cell_type": "markdown",
   "metadata": {},
   "source": [
    "## Collaborative Filtering - Neighborhood\n"
   ]
  },
  {
   "cell_type": "code",
   "execution_count": 57,
   "metadata": {},
   "outputs": [],
   "source": [
    "def train_neighborhood_model(movies, ratings, tags, links) :\n",
    "    print(\"Training neighborhood model\")"
   ]
  },
  {
   "cell_type": "markdown",
   "metadata": {},
   "source": [
    "## Collaborative Filtering - Matrix Factorization\n"
   ]
  },
  {
   "cell_type": "code",
   "execution_count": 58,
   "metadata": {},
   "outputs": [],
   "source": [
    "def train_matrix_factorization_model(movies, ratings, tags, links):\n",
    "    print(\"Training matrix factorization model\")\n",
    "    "
   ]
  },
  {
   "cell_type": "markdown",
   "metadata": {},
   "source": [
    "## Train all Models"
   ]
  },
  {
   "cell_type": "code",
   "execution_count": 59,
   "metadata": {},
   "outputs": [
    {
     "name": "stdout",
     "output_type": "stream",
     "text": [
      "Training content-based model\n",
      "Training neighborhood model\n",
      "Training matrix factorization model\n"
     ]
    }
   ],
   "source": [
    "def train_models(movies, ratings, tags, links) :\n",
    "    train_content_based_model(movies, ratings, tags, links)\n",
    "    train_neighborhood_model(movies, ratings, tags, links)\n",
    "    train_matrix_factorization_model(movies, ratings, tags, links)\n",
    "\n",
    "movies_df, ratings_df, tags_df, links_df = load_data()\n",
    "train_models(movies=movies_df, ratings=ratings_df, tags=tags_df, links=links_df)"
   ]
  },
  {
   "cell_type": "markdown",
   "metadata": {},
   "source": [
    "# Use Models"
   ]
  },
  {
   "cell_type": "markdown",
   "metadata": {},
   "source": [
    "## Content-Based"
   ]
  },
  {
   "cell_type": "code",
   "execution_count": 60,
   "metadata": {},
   "outputs": [],
   "source": [
    "# This function should return a list of recommended items with their scores\n",
    "# [{'movieId': 1, 'score': 0.5}, {'movieId': 2, 'score': 0.4}, {'movieId': 3, 'score': 0.3}]\n",
    "def make_content_based_recommendations(user, model) -> []:\n",
    "    return []"
   ]
  },
  {
   "cell_type": "markdown",
   "metadata": {},
   "source": [
    "## Collaborative Filtering - Neighborhood\n"
   ]
  },
  {
   "cell_type": "code",
   "execution_count": 61,
   "metadata": {},
   "outputs": [],
   "source": [
    "# This function should return a list of recommended items with their scores\n",
    "# [{'movieId': 1, 'score': 0.5}, {'movieId': 2, 'score': 0.4}, {'movieId': 3, 'score': 0.3}]\n",
    "def make_neighborhood_recommendations(user, model) -> []:\n",
    "    return []"
   ]
  },
  {
   "cell_type": "markdown",
   "metadata": {},
   "source": [
    "## Collaborative Filtering - Matrix Factorization\n"
   ]
  },
  {
   "cell_type": "code",
   "execution_count": 62,
   "metadata": {},
   "outputs": [],
   "source": [
    "# This function should return a list of recommended items with their scores\n",
    "# [{'movieId': 1, 'score': 0.5}, {'movieId': 2, 'score': 0.4}, {'movieId': 3, 'score': 0.3}]\n",
    "def make_matrix_factorization_recommendations(user, model) -> []:\n",
    "    # add the user to the model\n",
    "    # get the recommendations for the user\n",
    "    return []"
   ]
  },
  {
   "cell_type": "markdown",
   "metadata": {},
   "source": [
    "## Hybrid Recommendations"
   ]
  },
  {
   "cell_type": "code",
   "execution_count": 63,
   "metadata": {},
   "outputs": [],
   "source": [
    "def make_recommendations(user, content_model, collab_model1, collab_model2) -> []:\n",
    "    content_based_recommendations = make_content_based_recommendations(user, content_model)\n",
    "    neighborhood_recommendations = make_neighborhood_recommendations(user, collab_model1)\n",
    "    matrix_factorization_recommendations = make_matrix_factorization_recommendations(user, collab_model2)\n",
    "\n",
    "    # Combine the recommendations from the three models\n",
    "    return []"
   ]
  },
  {
   "cell_type": "markdown",
   "metadata": {},
   "source": [
    "### Train the models to estimate a score for a recommendation"
   ]
  },
  {
   "cell_type": "code",
   "execution_count": 64,
   "metadata": {},
   "outputs": [],
   "source": [
    "# user contains information about the user -> details tbd\n",
    "# probably a list of movies the user has rated and the ratings given\n",
    "\n",
    "# movie_list contains a list of movie ids\n",
    "def recommendations_from_list(user, movie_list, content_model, collab_model1, collab_model2):\n",
    "    scores = {}\n",
    "    for movie in movie_list:\n",
    "        try: \n",
    "            content_score = content_model.estimate(user, movie)\n",
    "        except: \n",
    "            content_score = 0\n",
    "        try:\n",
    "            collab_score1 = collab_model1.estimate(user, movie)\n",
    "        except: \n",
    "            collab_score1 = 0\n",
    "        try:\n",
    "            collab_score2 = collab_model2.estimate(user, movie)\n",
    "        except: \n",
    "            collab_score2 = 0\n",
    "\n",
    "        combined_score = (content_score + collab_score1 + collab_score2) / 3\n",
    "        scores[movie] = combined_score\n",
    "        # Create a combined score\n",
    "        combined_score = (content_score + collab_score1 + collab_score2) / 3\n",
    "        scores[movie] = combined_score\n",
    "    # Sort the scores with best recommendations first\n",
    "    sorted_scores = sorted(scores.items(), key=lambda x: x[1], reverse=True)\n",
    "    return sorted_scores"
   ]
  }
 ],
 "metadata": {
  "kernelspec": {
   "display_name": "Python 3",
   "language": "python",
   "name": "python3"
  },
  "language_info": {
   "codemirror_mode": {
    "name": "ipython",
    "version": 3
   },
   "file_extension": ".py",
   "mimetype": "text/x-python",
   "name": "python",
   "nbconvert_exporter": "python",
   "pygments_lexer": "ipython3",
   "version": "3.10.13"
  }
 },
 "nbformat": 4,
 "nbformat_minor": 2
}
