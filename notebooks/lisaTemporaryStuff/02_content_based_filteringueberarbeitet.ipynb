{
 "cells": [
  {
   "cell_type": "markdown",
   "metadata": {},
   "source": [
    "# Content-based Filtering\n",
    "\n",
    "### Loading Libraries"
   ]
  },
  {
   "cell_type": "code",
   "execution_count": 44,
   "metadata": {},
   "outputs": [],
   "source": [
    "import pandas as pd\n",
    "from sklearn.metrics.pairwise import cosine_similarity\n",
    "import warnings\n",
    "warnings.filterwarnings('ignore')"
   ]
  },
  {
   "cell_type": "markdown",
   "metadata": {},
   "source": [
    "### Loading Datasets"
   ]
  },
  {
   "cell_type": "code",
   "execution_count": 45,
   "metadata": {},
   "outputs": [
    {
     "name": "stdout",
     "output_type": "stream",
     "text": [
      "Index(['movieId', 'title', 'genres'], dtype='object')\n"
     ]
    }
   ],
   "source": [
    "movies = pd.read_csv('../../data/ml-25m/movies.csv')\n",
    "print(movies.columns)"
   ]
  },
  {
   "cell_type": "markdown",
   "metadata": {},
   "source": [
    "### Titel bereinigen"
   ]
  },
  {
   "cell_type": "code",
   "execution_count": 46,
   "metadata": {},
   "outputs": [],
   "source": [
    "# Extrahiere das Erscheinungsjahr aus dem Titel und füge es als neue Spalte hinzu\n",
    "movies['year'] = movies['title'].str.extract(r'\\((\\d{4})\\)')\n",
    "\n",
    "# Entferne das Erscheinungsjahr aus dem Titel\n",
    "movies['title'] = movies['title'].str.replace(r'\\s*\\(\\d{4}\\)', '', regex=True)"
   ]
  },
  {
   "cell_type": "markdown",
   "metadata": {},
   "source": [
    "movies without year"
   ]
  },
  {
   "cell_type": "code",
   "execution_count": 47,
   "metadata": {},
   "outputs": [
    {
     "name": "stdout",
     "output_type": "stream",
     "text": [
      "the number of movies without year is:  410\n",
      "Movies without year saved to 'movies_without_year.csv'\n",
      "the number of movies without year is:  83\n",
      "Movies without year saved to 'movies_without_year1.csv'\n",
      "   movieId                        title  \\\n",
      "0        1                    Toy Story   \n",
      "1        2                      Jumanji   \n",
      "2        3             Grumpier Old Men   \n",
      "3        4            Waiting to Exhale   \n",
      "4        5  Father of the Bride Part II   \n",
      "\n",
      "                                        genres  year  \n",
      "0  Adventure|Animation|Children|Comedy|Fantasy  1995  \n",
      "1                   Adventure|Children|Fantasy  1995  \n",
      "2                               Comedy|Romance  1995  \n",
      "3                         Comedy|Drama|Romance  1995  \n",
      "4                                       Comedy  1995  \n"
     ]
    }
   ],
   "source": [
    "# Filme ohne Erscheinungsjahr ausgeben\n",
    "movies_without_year = movies[movies['year'].isna()]\n",
    "\n",
    "\n",
    "print(\"the number of movies without year is: \", movies['year'].isna().sum())\n",
    "\n",
    "movies_without_year.to_csv('movies_without_year.csv', index=False)\n",
    "print(\"Movies without year saved to 'movies_without_year.csv'\")\n",
    "\n",
    "movies_with_year = pd.read_csv('movies_with_year.csv', sep=';')\n",
    "\n",
    "# Füge die fehlenden Jahre aus der neuen CSV-Datei ein, basierend auf den Titeln\n",
    "movies['year'] = movies.apply(\n",
    "    lambda row: movies_with_year[movies_with_year['title'] == row['title']]['year'].values[0]\n",
    "    if pd.isnull(row['year']) and row['title'] in movies_with_year ['title'].values\n",
    "    else row['year'],\n",
    "    axis=1\n",
    ")\n",
    "\n",
    "# Filme ohne Erscheinungsjahr ausgeben\n",
    "movies_without_year1 = movies[movies['year'].isna()]\n",
    "\n",
    "print(\"the number of movies without year is: \", movies['year'].isna().sum())\n",
    "\n",
    "movies_without_year1.to_csv('movies_without_year1.csv', index=False)\n",
    "print(\"Movies without year saved to 'movies_without_year1.csv'\")\n",
    "\n",
    "\n",
    "# Entferne Filme ohne Erscheinungsjahr\n",
    "movies = movies.dropna(subset=['year'])\n",
    "movies.isnull().sum()\n",
    "\n",
    "print(movies.head(5))"
   ]
  },
  {
   "cell_type": "markdown",
   "metadata": {},
   "source": [
    "### Genres aufbereiten\n"
   ]
  },
  {
   "cell_type": "code",
   "execution_count": 48,
   "metadata": {},
   "outputs": [
    {
     "name": "stdout",
     "output_type": "stream",
     "text": [
      "Anzahl der Filme mit '(no genres listed)': 5002\n",
      "Anzahl der Filme mit '(no genres listed)': 1597\n"
     ]
    }
   ],
   "source": [
    "print(\"Anzahl der Filme mit '(no genres listed)':\", movies[movies['genres'] == '(no genres listed)'].shape[0])\n",
    "\n",
    "# Speichern der Filme mit \"(no genres listed)\" in eine CSV-Datei\n",
    "movies_no_genres_listed = movies[movies['genres'] == '(no genres listed)']\n",
    "movies_no_genres_listed.to_csv('movies_no_genres_listed.csv', index=False)\n",
    "\n",
    "# Neue CSV-Datei mit den Genres laden\n",
    "movies_with_genres = pd.read_csv('filtered_filme.csv')\n",
    "\n",
    "# Zusammenführen der DataFrames basierend auf den Titeln und Jahren\n",
    "movies_updated = pd.merge(movies, movies_with_genres[['title', 'year', 'genres']], on=['title', 'year'], how='left', suffixes=('', '_new'))\n",
    "\n",
    "# Aktualisieren der Genres im movies DataFrame nur für die übereinstimmenden Einträge\n",
    "movies_updated['genres'] = movies_updated['genres_new'].combine_first(movies_updated['genres'])\n",
    "\n",
    "# Entferne die temporäre Spalte\n",
    "movies_updated = movies_updated.drop(columns=['genres_new'])\n",
    "movies = movies_updated\n",
    "\n",
    "print(\"Anzahl der Filme mit '(no genres listed)':\", movies[movies['genres'] == '(no genres listed)'].shape[0])\n",
    "\n",
    "# Speichern der Filme mit \"(no genres listed)\" in eine CSV-Datei\n",
    "movies_no_genres_listed1 = movies[movies['genres'] == '(no genres listed)']\n",
    "movies_no_genres_listed1.to_csv('movies_no_genres_listed.csv', index=False)\n",
    "\n",
    "\n",
    "# # Entferne \"(no genres listed)\" aus der Genre-Liste\n",
    "# movies['genres'] = movies['genres'].replace('(no genres listed)', '')\n",
    "\n",
    "# # Trenne die Genres in separate Listen\n",
    "# genre_list = movies['genres'].str.split('|')\n",
    "\n",
    "# # Finde alle einzigartigen Genres\n",
    "# all_genres = set(genre for sublist in genre_list for genre in sublist if genre)\n",
    "\n",
    "# # Erstelle für jedes Genre eine Spalte und fülle sie mit binären Werten\n",
    "# for genre in all_genres:\n",
    "#     movies[genre] = movies['genres'].apply(lambda x: int(genre in x.split('|')))\n",
    "\n",
    "# # Entferne die ursprüngliche 'genres' Spalte\n",
    "# movies = movies.drop(columns=['genres'])\n",
    "\n",
    "# print(movies.head(5))"
   ]
  },
  {
   "cell_type": "markdown",
   "metadata": {},
   "source": [
    "### Nach Null-Werten suchen"
   ]
  },
  {
   "cell_type": "code",
   "execution_count": 49,
   "metadata": {},
   "outputs": [
    {
     "name": "stdout",
     "output_type": "stream",
     "text": [
      "<class 'pandas.core.frame.DataFrame'>\n",
      "RangeIndex: 62340 entries, 0 to 62339\n",
      "Data columns (total 4 columns):\n",
      " #   Column   Non-Null Count  Dtype \n",
      "---  ------   --------------  ----- \n",
      " 0   movieId  62340 non-null  int64 \n",
      " 1   title    62340 non-null  object\n",
      " 2   genres   62340 non-null  object\n",
      " 3   year     62340 non-null  object\n",
      "dtypes: int64(1), object(3)\n",
      "memory usage: 1.9+ MB\n"
     ]
    },
    {
     "data": {
      "text/plain": [
       "movieId    0\n",
       "title      0\n",
       "genres     0\n",
       "year       0\n",
       "dtype: int64"
      ]
     },
     "execution_count": 49,
     "metadata": {},
     "output_type": "execute_result"
    }
   ],
   "source": [
    "movies.info()\n",
    "movies.isnull().sum()"
   ]
  },
  {
   "cell_type": "markdown",
   "metadata": {},
   "source": [
    "movies without genre"
   ]
  },
  {
   "cell_type": "code",
   "execution_count": null,
   "metadata": {},
   "outputs": [],
   "source": []
  },
  {
   "cell_type": "markdown",
   "metadata": {},
   "source": [
    "### Feature Set 1: Genre"
   ]
  },
  {
   "cell_type": "code",
   "execution_count": 50,
   "metadata": {},
   "outputs": [
    {
     "ename": "NameError",
     "evalue": "name 'genre_matrix' is not defined",
     "output_type": "error",
     "traceback": [
      "\u001b[1;31m---------------------------------------------------------------------------\u001b[0m",
      "\u001b[1;31mNameError\u001b[0m                                 Traceback (most recent call last)",
      "Cell \u001b[1;32mIn[50], line 4\u001b[0m\n\u001b[0;32m      2\u001b[0m genre_columns \u001b[38;5;241m=\u001b[39m \u001b[38;5;28mlist\u001b[39m(all_genres)  \n\u001b[0;32m      3\u001b[0m \u001b[38;5;66;03m# genre_matrix = movies_with_tags[genre_columns].values\u001b[39;00m\n\u001b[1;32m----> 4\u001b[0m cosine_sim \u001b[38;5;241m=\u001b[39m cosine_similarity(\u001b[43mgenre_matrix\u001b[49m, genre_matrix)\n\u001b[0;32m      6\u001b[0m \u001b[38;5;66;03m# Funktion zur Empfehlung von Filmen basierend auf Genres\u001b[39;00m\n\u001b[0;32m      7\u001b[0m \u001b[38;5;28;01mdef\u001b[39;00m \u001b[38;5;21mrecommend_movies_by_genre\u001b[39m(movie_title, cosine_sim\u001b[38;5;241m=\u001b[39mcosine_sim):\n\u001b[0;32m      8\u001b[0m     \u001b[38;5;66;03m# Index des eingegebenen Films finden\u001b[39;00m\n",
      "\u001b[1;31mNameError\u001b[0m: name 'genre_matrix' is not defined"
     ]
    }
   ],
   "source": [
    "# Berechnung der Cosine Similarity basierend auf den Genres\n",
    "genre_columns = list(all_genres)  \n",
    "# genre_matrix = movies_with_tags[genre_columns].values\n",
    "cosine_sim = cosine_similarity(genre_matrix, genre_matrix)\n",
    "\n",
    "# Funktion zur Empfehlung von Filmen basierend auf Genres\n",
    "def recommend_movies_by_genre(movie_title, cosine_sim=cosine_sim):\n",
    "    # Index des eingegebenen Films finden\n",
    "    idx = movies_with_tags[movies_with_tags['title'] == movie_title].index[0]\n",
    "    \n",
    "    # Ähnlichkeitsscores des Films mit allen anderen Filmen\n",
    "    sim_scores = list(enumerate(cosine_sim[idx]))\n",
    "    \n",
    "    # Sortierung der Filme basierend auf der Ähnlichkeit\n",
    "    sim_scores = sorted(sim_scores, key=lambda x: x[1], reverse=True)\n",
    "    \n",
    "    # Indizes der 10 ähnlichsten Filme erhalten\n",
    "    sim_scores = sim_scores[1:11]\n",
    "    \n",
    "    # Filmtitel der 10 ähnlichsten Filme ausgeben\n",
    "    movie_indices = [i[0] for i in sim_scores]\n",
    "    return movies_with_tags['title'].iloc[movie_indices]\n",
    "\n"
   ]
  },
  {
   "cell_type": "markdown",
   "metadata": {},
   "source": [
    "### Test"
   ]
  },
  {
   "cell_type": "code",
   "execution_count": null,
   "metadata": {},
   "outputs": [],
   "source": [
    "recommended_movies = recommend_movies_by_genre('Toy Story')\n",
    "print(recommended_movies)"
   ]
  }
 ],
 "metadata": {
  "kernelspec": {
   "display_name": "Python 3",
   "language": "python",
   "name": "python3"
  },
  "language_info": {
   "codemirror_mode": {
    "name": "ipython",
    "version": 3
   },
   "file_extension": ".py",
   "mimetype": "text/x-python",
   "name": "python",
   "nbconvert_exporter": "python",
   "pygments_lexer": "ipython3",
   "version": "3.12.4"
  }
 },
 "nbformat": 4,
 "nbformat_minor": 2
}
