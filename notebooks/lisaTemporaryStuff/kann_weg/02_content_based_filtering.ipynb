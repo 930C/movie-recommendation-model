{
 "cells": [
  {
   "cell_type": "markdown",
   "metadata": {},
   "source": [
    "# Content-based Filtering\n",
    "\n",
    "### Loading Libraries"
   ]
  },
  {
   "cell_type": "code",
   "execution_count": 28,
   "metadata": {},
   "outputs": [],
   "source": [
    "import pandas as pd\n",
    "from sklearn.metrics.pairwise import cosine_similarity\n",
    "import tag_mapping_sorted \n",
    "import warnings\n",
    "warnings.filterwarnings('ignore')"
   ]
  },
  {
   "cell_type": "markdown",
   "metadata": {},
   "source": [
    "Loading Datasets"
   ]
  },
  {
   "cell_type": "code",
   "execution_count": 29,
   "metadata": {},
   "outputs": [],
   "source": [
    "genome_tags = pd.read_csv('../../data/ml-25m/genome-tags.csv')\n",
    "links = pd.read_csv('../../data/ml-25m/links.csv')\n",
    "movies = pd.read_csv('../../data/ml-25m/movies.csv')"
   ]
  },
  {
   "cell_type": "markdown",
   "metadata": {},
   "source": [
    "### Tags aufbereiten"
   ]
  },
  {
   "cell_type": "code",
   "execution_count": 30,
   "metadata": {},
   "outputs": [],
   "source": [
    "# Ersetze Tags in genome-tags.csv\n",
    "# genome_tags['tag'] = genome_tags['tag'].replace(tag_mapping_sorted.tag_mapping)\n",
    "\n",
    "# # Kombiniere genome_scores und genome_tags\n",
    "# genome = pd.merge(genome_scores, genome_tags, on='tagId')\n",
    "\n",
    "# # Ersetze Tags gemäß Mapping\n",
    "# genome['tag'] = genome['tag'].replace(tag_mapping_sorted.tag_mapping)\n",
    "\n",
    "# # Aggregiere Relevanzwerte (Durchschnitt)\n",
    "# genome_agg = genome.groupby(['movieId', 'tag']).agg({'relevance': 'mean'}).reset_index()\n",
    "\n",
    "# # Pivot-Tabelle neu erstellen\n",
    "# genome_pivot = genome_agg.pivot_table(index='movieId', columns='tag', values='relevance', fill_value=0)\n",
    "\n",
    "# Gib die ersten Zeilen der aggregierten Pivot-Tabelle aus (zur Überprüfung)\n",
    "# print(genome_pivot.head(5))"
   ]
  },
  {
   "cell_type": "markdown",
   "metadata": {},
   "source": [
    "### Korrelationen in Tags"
   ]
  },
  {
   "cell_type": "code",
   "execution_count": 31,
   "metadata": {},
   "outputs": [],
   "source": [
    "# # Anzahl der einzigartigen Tags nach dem Mapping\n",
    "# unique_tags_count = len(genome_pivot.columns)\n",
    "# print(f\"Anzahl der einzigartigen Tags nach dem Mapping: {unique_tags_count}\")\n",
    "\n",
    "\n",
    "# corr_matrix_tags = genome_pivot.corr()\n",
    "# # print(corr_matrix_tags)\n",
    "\n",
    "# # Unstack die Korrelationsmatrix und sortiere die Werte\n",
    "# corr_pairs = corr_matrix_tags.unstack()\n",
    "# sorted_pairs = corr_pairs.sort_values(kind=\"quicksort\", ascending=False)\n",
    "\n",
    "# # Entferne die 1.0 Korrelationswerte (Selbstkorrelationen)\n",
    "# strong_pairs = sorted_pairs[sorted_pairs != 1]\n",
    "\n",
    "# # Ausgabe der stärksten Korrelationen (z.B. Top 10)\n",
    "# high_corr_pairs = strong_pairs[strong_pairs > 0.8] \n",
    "# print(high_corr_pairs)\n",
    "# print(f\"Anzahl der Paare mit hoher Korrelation: {len(high_corr_pairs)}\")\n",
    "\n",
    "# Speichern der hohen Korrelationen in einer separaten Datei\n",
    "# with open('high_correlation_pairs.py', 'w') as f:\n",
    "#     f.write(\"high_corr_pairs = {\\n\")\n",
    "#     for (tag1, tag2), correlation in high_corr_pairs.items():\n",
    "#         f.write(f\"    '{tag1}': '{tag2}',\\n\")\n",
    "#     f.write(\"}\\n\")"
   ]
  },
  {
   "cell_type": "markdown",
   "metadata": {},
   "source": [
    "### Genres aufbereiten\n"
   ]
  },
  {
   "cell_type": "code",
   "execution_count": 32,
   "metadata": {},
   "outputs": [
    {
     "ename": "KeyError",
     "evalue": "'genres'",
     "output_type": "error",
     "traceback": [
      "\u001b[1;31m---------------------------------------------------------------------------\u001b[0m",
      "\u001b[1;31mKeyError\u001b[0m                                  Traceback (most recent call last)",
      "File \u001b[1;32m~\\AppData\\Roaming\\Python\\Python312\\site-packages\\pandas\\core\\indexes\\base.py:3805\u001b[0m, in \u001b[0;36mIndex.get_loc\u001b[1;34m(self, key)\u001b[0m\n\u001b[0;32m   3804\u001b[0m \u001b[38;5;28;01mtry\u001b[39;00m:\n\u001b[1;32m-> 3805\u001b[0m     \u001b[38;5;28;01mreturn\u001b[39;00m \u001b[38;5;28;43mself\u001b[39;49m\u001b[38;5;241;43m.\u001b[39;49m\u001b[43m_engine\u001b[49m\u001b[38;5;241;43m.\u001b[39;49m\u001b[43mget_loc\u001b[49m\u001b[43m(\u001b[49m\u001b[43mcasted_key\u001b[49m\u001b[43m)\u001b[49m\n\u001b[0;32m   3806\u001b[0m \u001b[38;5;28;01mexcept\u001b[39;00m \u001b[38;5;167;01mKeyError\u001b[39;00m \u001b[38;5;28;01mas\u001b[39;00m err:\n",
      "File \u001b[1;32mindex.pyx:167\u001b[0m, in \u001b[0;36mpandas._libs.index.IndexEngine.get_loc\u001b[1;34m()\u001b[0m\n",
      "File \u001b[1;32mindex.pyx:196\u001b[0m, in \u001b[0;36mpandas._libs.index.IndexEngine.get_loc\u001b[1;34m()\u001b[0m\n",
      "File \u001b[1;32mpandas\\\\_libs\\\\hashtable_class_helper.pxi:7081\u001b[0m, in \u001b[0;36mpandas._libs.hashtable.PyObjectHashTable.get_item\u001b[1;34m()\u001b[0m\n",
      "File \u001b[1;32mpandas\\\\_libs\\\\hashtable_class_helper.pxi:7089\u001b[0m, in \u001b[0;36mpandas._libs.hashtable.PyObjectHashTable.get_item\u001b[1;34m()\u001b[0m\n",
      "\u001b[1;31mKeyError\u001b[0m: 'genres'",
      "\nThe above exception was the direct cause of the following exception:\n",
      "\u001b[1;31mKeyError\u001b[0m                                  Traceback (most recent call last)",
      "Cell \u001b[1;32mIn[32], line 2\u001b[0m\n\u001b[0;32m      1\u001b[0m \u001b[38;5;66;03m# Entferne \"(no genres listed)\" aus der Genre-Liste\u001b[39;00m\n\u001b[1;32m----> 2\u001b[0m movies[\u001b[38;5;124m'\u001b[39m\u001b[38;5;124mgenres\u001b[39m\u001b[38;5;124m'\u001b[39m] \u001b[38;5;241m=\u001b[39m \u001b[43mmovies\u001b[49m\u001b[43m[\u001b[49m\u001b[38;5;124;43m'\u001b[39;49m\u001b[38;5;124;43mgenres\u001b[39;49m\u001b[38;5;124;43m'\u001b[39;49m\u001b[43m]\u001b[49m\u001b[38;5;241m.\u001b[39mreplace(\u001b[38;5;124m'\u001b[39m\u001b[38;5;124m(no genres listed)\u001b[39m\u001b[38;5;124m'\u001b[39m, \u001b[38;5;124m'\u001b[39m\u001b[38;5;124m'\u001b[39m)\n\u001b[0;32m      4\u001b[0m \u001b[38;5;66;03m# Trenne die Genres in separate Listen\u001b[39;00m\n\u001b[0;32m      5\u001b[0m genre_list \u001b[38;5;241m=\u001b[39m movies[\u001b[38;5;124m'\u001b[39m\u001b[38;5;124mgenres\u001b[39m\u001b[38;5;124m'\u001b[39m]\u001b[38;5;241m.\u001b[39mstr\u001b[38;5;241m.\u001b[39msplit(\u001b[38;5;124m'\u001b[39m\u001b[38;5;124m|\u001b[39m\u001b[38;5;124m'\u001b[39m)\n",
      "File \u001b[1;32m~\\AppData\\Roaming\\Python\\Python312\\site-packages\\pandas\\core\\frame.py:4102\u001b[0m, in \u001b[0;36mDataFrame.__getitem__\u001b[1;34m(self, key)\u001b[0m\n\u001b[0;32m   4100\u001b[0m \u001b[38;5;28;01mif\u001b[39;00m \u001b[38;5;28mself\u001b[39m\u001b[38;5;241m.\u001b[39mcolumns\u001b[38;5;241m.\u001b[39mnlevels \u001b[38;5;241m>\u001b[39m \u001b[38;5;241m1\u001b[39m:\n\u001b[0;32m   4101\u001b[0m     \u001b[38;5;28;01mreturn\u001b[39;00m \u001b[38;5;28mself\u001b[39m\u001b[38;5;241m.\u001b[39m_getitem_multilevel(key)\n\u001b[1;32m-> 4102\u001b[0m indexer \u001b[38;5;241m=\u001b[39m \u001b[38;5;28;43mself\u001b[39;49m\u001b[38;5;241;43m.\u001b[39;49m\u001b[43mcolumns\u001b[49m\u001b[38;5;241;43m.\u001b[39;49m\u001b[43mget_loc\u001b[49m\u001b[43m(\u001b[49m\u001b[43mkey\u001b[49m\u001b[43m)\u001b[49m\n\u001b[0;32m   4103\u001b[0m \u001b[38;5;28;01mif\u001b[39;00m is_integer(indexer):\n\u001b[0;32m   4104\u001b[0m     indexer \u001b[38;5;241m=\u001b[39m [indexer]\n",
      "File \u001b[1;32m~\\AppData\\Roaming\\Python\\Python312\\site-packages\\pandas\\core\\indexes\\base.py:3812\u001b[0m, in \u001b[0;36mIndex.get_loc\u001b[1;34m(self, key)\u001b[0m\n\u001b[0;32m   3807\u001b[0m     \u001b[38;5;28;01mif\u001b[39;00m \u001b[38;5;28misinstance\u001b[39m(casted_key, \u001b[38;5;28mslice\u001b[39m) \u001b[38;5;129;01mor\u001b[39;00m (\n\u001b[0;32m   3808\u001b[0m         \u001b[38;5;28misinstance\u001b[39m(casted_key, abc\u001b[38;5;241m.\u001b[39mIterable)\n\u001b[0;32m   3809\u001b[0m         \u001b[38;5;129;01mand\u001b[39;00m \u001b[38;5;28many\u001b[39m(\u001b[38;5;28misinstance\u001b[39m(x, \u001b[38;5;28mslice\u001b[39m) \u001b[38;5;28;01mfor\u001b[39;00m x \u001b[38;5;129;01min\u001b[39;00m casted_key)\n\u001b[0;32m   3810\u001b[0m     ):\n\u001b[0;32m   3811\u001b[0m         \u001b[38;5;28;01mraise\u001b[39;00m InvalidIndexError(key)\n\u001b[1;32m-> 3812\u001b[0m     \u001b[38;5;28;01mraise\u001b[39;00m \u001b[38;5;167;01mKeyError\u001b[39;00m(key) \u001b[38;5;28;01mfrom\u001b[39;00m \u001b[38;5;21;01merr\u001b[39;00m\n\u001b[0;32m   3813\u001b[0m \u001b[38;5;28;01mexcept\u001b[39;00m \u001b[38;5;167;01mTypeError\u001b[39;00m:\n\u001b[0;32m   3814\u001b[0m     \u001b[38;5;66;03m# If we have a listlike key, _check_indexing_error will raise\u001b[39;00m\n\u001b[0;32m   3815\u001b[0m     \u001b[38;5;66;03m#  InvalidIndexError. Otherwise we fall through and re-raise\u001b[39;00m\n\u001b[0;32m   3816\u001b[0m     \u001b[38;5;66;03m#  the TypeError.\u001b[39;00m\n\u001b[0;32m   3817\u001b[0m     \u001b[38;5;28mself\u001b[39m\u001b[38;5;241m.\u001b[39m_check_indexing_error(key)\n",
      "\u001b[1;31mKeyError\u001b[0m: 'genres'"
     ]
    }
   ],
   "source": [
    "# Entferne \"(no genres listed)\" aus der Genre-Liste\n",
    "movies['genres'] = movies['genres'].replace('(no genres listed)', '')\n",
    "\n",
    "# Trenne die Genres in separate Listen\n",
    "genre_list = movies['genres'].str.split('|')\n",
    "\n",
    "# Finde alle einzigartigen Genres\n",
    "all_genres = set(genre for sublist in genre_list for genre in sublist if genre)\n",
    "\n",
    "# Erstelle für jedes Genre eine Spalte und fülle sie mit binären Werten\n",
    "for genre in all_genres:\n",
    "    movies[genre] = movies['genres'].apply(lambda x: int(genre in x.split('|')))\n",
    "\n",
    "# Entferne die ursprüngliche 'genres' Spalte\n",
    "movies = movies.drop(columns=['genres'])"
   ]
  },
  {
   "cell_type": "markdown",
   "metadata": {},
   "source": [
    "### Titel bereinigen"
   ]
  },
  {
   "cell_type": "code",
   "execution_count": null,
   "metadata": {},
   "outputs": [],
   "source": [
    "# Extrahiere das Erscheinungsjahr aus dem Titel und füge es als neue Spalte hinzu\n",
    "movies['year'] = movies['title'].str.extract(r'\\((\\d{4})\\)')\n",
    "\n",
    "# Entferne das Erscheinungsjahr aus dem Titel\n",
    "movies['title'] = movies['title'].str.replace(r'\\s*\\(\\d{4}\\)', '', regex=True)"
   ]
  },
  {
   "cell_type": "markdown",
   "metadata": {},
   "source": [
    "### Merkmale zusammenführen"
   ]
  },
  {
   "cell_type": "code",
   "execution_count": null,
   "metadata": {},
   "outputs": [],
   "source": [
    "# Merge der Tag-Relevanzen mit dem Movies DataFrame\n",
    "# movies_with_tags = pd.merge(movies, genome_pivot, on='movieId', how='left').fillna(0)\n",
    "# print(movies_with_tags.head(10))"
   ]
  },
  {
   "cell_type": "markdown",
   "metadata": {},
   "source": [
    "### Nach Null-Werten suchen"
   ]
  },
  {
   "cell_type": "code",
   "execution_count": null,
   "metadata": {},
   "outputs": [
    {
     "name": "stdout",
     "output_type": "stream",
     "text": [
      "<class 'pandas.core.frame.DataFrame'>\n",
      "RangeIndex: 62423 entries, 0 to 62422\n",
      "Data columns (total 22 columns):\n",
      " #   Column       Non-Null Count  Dtype \n",
      "---  ------       --------------  ----- \n",
      " 0   movieId      62423 non-null  int64 \n",
      " 1   title        62423 non-null  object\n",
      " 2   Documentary  62423 non-null  int64 \n",
      " 3   IMAX         62423 non-null  int64 \n",
      " 4   Mystery      62423 non-null  int64 \n",
      " 5   War          62423 non-null  int64 \n",
      " 6   Action       62423 non-null  int64 \n",
      " 7   Animation    62423 non-null  int64 \n",
      " 8   Horror       62423 non-null  int64 \n",
      " 9   Thriller     62423 non-null  int64 \n",
      " 10  Adventure    62423 non-null  int64 \n",
      " 11  Drama        62423 non-null  int64 \n",
      " 12  Crime        62423 non-null  int64 \n",
      " 13  Comedy       62423 non-null  int64 \n",
      " 14  Fantasy      62423 non-null  int64 \n",
      " 15  Western      62423 non-null  int64 \n",
      " 16  Children     62423 non-null  int64 \n",
      " 17  Romance      62423 non-null  int64 \n",
      " 18  Musical      62423 non-null  int64 \n",
      " 19  Sci-Fi       62423 non-null  int64 \n",
      " 20  Film-Noir    62423 non-null  int64 \n",
      " 21  year         62013 non-null  object\n",
      "dtypes: int64(20), object(2)\n",
      "memory usage: 10.5+ MB\n"
     ]
    },
    {
     "data": {
      "text/plain": [
       "movieId          0\n",
       "title            0\n",
       "Documentary      0\n",
       "IMAX             0\n",
       "Mystery          0\n",
       "War              0\n",
       "Action           0\n",
       "Animation        0\n",
       "Horror           0\n",
       "Thriller         0\n",
       "Adventure        0\n",
       "Drama            0\n",
       "Crime            0\n",
       "Comedy           0\n",
       "Fantasy          0\n",
       "Western          0\n",
       "Children         0\n",
       "Romance          0\n",
       "Musical          0\n",
       "Sci-Fi           0\n",
       "Film-Noir        0\n",
       "year           410\n",
       "dtype: int64"
      ]
     },
     "execution_count": 18,
     "metadata": {},
     "output_type": "execute_result"
    }
   ],
   "source": [
    "movies.info()\n",
    "movies.isnull().sum()"
   ]
  },
  {
   "cell_type": "code",
   "execution_count": null,
   "metadata": {},
   "outputs": [],
   "source": [
    "# numeric_cols = movies.select_dtypes(include=[float, int]).columns\n",
    "# corr_matrix = movies[numeric_cols].corr()\n",
    "\n",
    "# plt.figure(figsize=(12, 10))\n",
    "# sns.heatmap(corr_matrix, annot=True, fmt=\".2f\", cmap='coolwarm')\n",
    "# plt.show()\n",
    "\n",
    "# print(movies[movies['title'].str.contains(\"Toy Story\", case=False, na=False)])"
   ]
  },
  {
   "cell_type": "markdown",
   "metadata": {},
   "source": [
    "Movies without year"
   ]
  },
  {
   "cell_type": "code",
   "execution_count": null,
   "metadata": {},
   "outputs": [
    {
     "name": "stdout",
     "output_type": "stream",
     "text": [
      "Movies without year saved to 'movies_without_year.csv'\n"
     ]
    }
   ],
   "source": [
    "# Filme ohne Erscheinungsjahr ausgeben\n",
    "movies_without_year = movies[movies['year'].isna()]\n",
    "# print(movies_without_year)\n",
    "# print(movies['year'].isna().sum())\n",
    "\n",
    "movies_without_year.to_csv('movies_without_year.csv', index=False)\n",
    "print(\"Movies without year saved to 'movies_without_year.csv'\")\n",
    "\n",
    "# Entferne Filme ohne Erscheinungsjahr\n",
    "# movies = movies.dropna(subset=['year'])\n",
    "# movies.isnull().sum()"
   ]
  },
  {
   "cell_type": "markdown",
   "metadata": {},
   "source": [
    "### Feature Set 1: Genre"
   ]
  },
  {
   "cell_type": "code",
   "execution_count": null,
   "metadata": {},
   "outputs": [
    {
     "ename": "NameError",
     "evalue": "name 'movies_with_tags' is not defined",
     "output_type": "error",
     "traceback": [
      "\u001b[1;31m---------------------------------------------------------------------------\u001b[0m",
      "\u001b[1;31mNameError\u001b[0m                                 Traceback (most recent call last)",
      "Cell \u001b[1;32mIn[21], line 3\u001b[0m\n\u001b[0;32m      1\u001b[0m \u001b[38;5;66;03m# Berechnung der Cosine Similarity basierend auf den Genres\u001b[39;00m\n\u001b[0;32m      2\u001b[0m genre_columns \u001b[38;5;241m=\u001b[39m \u001b[38;5;28mlist\u001b[39m(all_genres)  \n\u001b[1;32m----> 3\u001b[0m genre_matrix \u001b[38;5;241m=\u001b[39m \u001b[43mmovies_with_tags\u001b[49m[genre_columns]\u001b[38;5;241m.\u001b[39mvalues\n\u001b[0;32m      4\u001b[0m cosine_sim \u001b[38;5;241m=\u001b[39m cosine_similarity(genre_matrix, genre_matrix)\n\u001b[0;32m      6\u001b[0m \u001b[38;5;66;03m# Funktion zur Empfehlung von Filmen basierend auf Genres\u001b[39;00m\n",
      "\u001b[1;31mNameError\u001b[0m: name 'movies_with_tags' is not defined"
     ]
    }
   ],
   "source": [
    "# Berechnung der Cosine Similarity basierend auf den Genres\n",
    "genre_columns = list(all_genres)  \n",
    "# genre_matrix = movies_with_tags[genre_columns].values\n",
    "cosine_sim = cosine_similarity(genre_matrix, genre_matrix)\n",
    "\n",
    "# Funktion zur Empfehlung von Filmen basierend auf Genres\n",
    "def recommend_movies_by_genre(movie_title, cosine_sim=cosine_sim):\n",
    "    # Index des eingegebenen Films finden\n",
    "    idx = movies_with_tags[movies_with_tags['title'] == movie_title].index[0]\n",
    "    \n",
    "    # Ähnlichkeitsscores des Films mit allen anderen Filmen\n",
    "    sim_scores = list(enumerate(cosine_sim[idx]))\n",
    "    \n",
    "    # Sortierung der Filme basierend auf der Ähnlichkeit\n",
    "    sim_scores = sorted(sim_scores, key=lambda x: x[1], reverse=True)\n",
    "    \n",
    "    # Indizes der 10 ähnlichsten Filme erhalten\n",
    "    sim_scores = sim_scores[1:11]\n",
    "    \n",
    "    # Filmtitel der 10 ähnlichsten Filme ausgeben\n",
    "    movie_indices = [i[0] for i in sim_scores]\n",
    "    return movies_with_tags['title'].iloc[movie_indices]\n",
    "\n"
   ]
  },
  {
   "cell_type": "markdown",
   "metadata": {},
   "source": [
    "### Test"
   ]
  },
  {
   "cell_type": "code",
   "execution_count": null,
   "metadata": {},
   "outputs": [],
   "source": [
    "recommended_movies = recommend_movies_by_genre('Toy Story')\n",
    "print(recommended_movies)"
   ]
  }
 ],
 "metadata": {
  "kernelspec": {
   "display_name": "Python 3",
   "language": "python",
   "name": "python3"
  },
  "language_info": {
   "codemirror_mode": {
    "name": "ipython",
    "version": 3
   },
   "file_extension": ".py",
   "mimetype": "text/x-python",
   "name": "python",
   "nbconvert_exporter": "python",
   "pygments_lexer": "ipython3",
   "version": "3.12.4"
  }
 },
 "nbformat": 4,
 "nbformat_minor": 2
}
