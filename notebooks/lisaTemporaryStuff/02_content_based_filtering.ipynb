{
 "cells": [
  {
   "cell_type": "markdown",
   "metadata": {},
   "source": [
    "# Content-based Filtering\n",
    "\n",
    "### Loading Libraries"
   ]
  },
  {
   "cell_type": "code",
   "execution_count": 18,
   "metadata": {},
   "outputs": [],
   "source": [
    "import numpy as np\n",
    "import pandas as pd\n",
    "import matplotlib.pyplot as plt\n",
    "import seaborn as sns\n",
    "from sklearn.feature_extraction.text import TfidfVectorizer\n",
    "from ast import literal_eval\n",
    "from sklearn.metrics.pairwise import cosine_similarity\n",
    "import tag_mapping_sorted \n",
    "from sklearn.feature_extraction.text import CountVectorizer\n",
    "import warnings\n",
    "warnings.filterwarnings('ignore')"
   ]
  },
  {
   "cell_type": "markdown",
   "metadata": {},
   "source": [
    "Loading Datasets"
   ]
  },
  {
   "cell_type": "code",
   "execution_count": 19,
   "metadata": {},
   "outputs": [],
   "source": [
    "genome_scores = pd.read_csv('../data/ml-25m/genome-scores.csv')\n",
    "genome_tags = pd.read_csv('../data/ml-25m/genome-tags.csv')\n",
    "links = pd.read_csv('../data/ml-25m/links.csv')\n",
    "movies = pd.read_csv('../data/ml-25m/movies.csv')\n",
    "ratings = pd.read_csv('../data/ml-25m/ratings.csv')\n",
    "tags = pd.read_csv('../data/ml-25m/tags.csv')"
   ]
  },
  {
   "cell_type": "markdown",
   "metadata": {},
   "source": [
    "### Tags aufbereiten"
   ]
  },
  {
   "cell_type": "code",
   "execution_count": 20,
   "metadata": {},
   "outputs": [],
   "source": [
    "# Ersetze Tags in genome-tags.csv\n",
    "genome_tags['tag'] = genome_tags['tag'].replace(tag_mapping_sorted.tag_mapping)\n",
    "\n",
    "# Kombiniere genome_scores und genome_tags\n",
    "genome = pd.merge(genome_scores, genome_tags, on='tagId')\n",
    "\n",
    "# Ersetze Tags gemäß Mapping\n",
    "genome['tag'] = genome['tag'].replace(tag_mapping_sorted.tag_mapping)\n",
    "\n",
    "# Aggregiere Relevanzwerte (Durchschnitt)\n",
    "genome_agg = genome.groupby(['movieId', 'tag']).agg({'relevance': 'mean'}).reset_index()\n",
    "\n",
    "# Pivot-Tabelle neu erstellen\n",
    "genome_pivot = genome_agg.pivot_table(index='movieId', columns='tag', values='relevance', fill_value=0)\n",
    "\n",
    "# Gib die ersten Zeilen der aggregierten Pivot-Tabelle aus (zur Überprüfung)\n",
    "# print(genome_pivot.head(5))"
   ]
  },
  {
   "cell_type": "markdown",
   "metadata": {},
   "source": [
    "### Korrelationen in Tags"
   ]
  },
  {
   "cell_type": "code",
   "execution_count": 21,
   "metadata": {},
   "outputs": [
    {
     "name": "stdout",
     "output_type": "stream",
     "text": [
      "Anzahl der einzigartigen Tags nach dem Mapping: 797\n"
     ]
    }
   ],
   "source": [
    "# Anzahl der einzigartigen Tags nach dem Mapping\n",
    "unique_tags_count = len(genome_pivot.columns)\n",
    "print(f\"Anzahl der einzigartigen Tags nach dem Mapping: {unique_tags_count}\")\n",
    "\n",
    "\n",
    "corr_matrix_tags = genome_pivot.corr()\n",
    "# print(corr_matrix_tags)\n",
    "\n",
    "# Unstack die Korrelationsmatrix und sortiere die Werte\n",
    "corr_pairs = corr_matrix_tags.unstack()\n",
    "sorted_pairs = corr_pairs.sort_values(kind=\"quicksort\", ascending=False)\n",
    "\n",
    "# Entferne die 1.0 Korrelationswerte (Selbstkorrelationen)\n",
    "strong_pairs = sorted_pairs[sorted_pairs != 1]\n",
    "\n",
    "# Ausgabe der stärksten Korrelationen (z.B. Top 10)\n",
    "high_corr_pairs = strong_pairs[strong_pairs > 0.8] \n",
    "# print(high_corr_pairs)\n",
    "# print(f\"Anzahl der Paare mit hoher Korrelation: {len(high_corr_pairs)}\")\n",
    "\n",
    "# Speichern der hohen Korrelationen in einer separaten Datei\n",
    "# with open('high_correlation_pairs.py', 'w') as f:\n",
    "#     f.write(\"high_corr_pairs = {\\n\")\n",
    "#     for (tag1, tag2), correlation in high_corr_pairs.items():\n",
    "#         f.write(f\"    '{tag1}': '{tag2}',\\n\")\n",
    "#     f.write(\"}\\n\")"
   ]
  },
  {
   "cell_type": "markdown",
   "metadata": {},
   "source": [
    "### Genres aufbereiten\n"
   ]
  },
  {
   "cell_type": "code",
   "execution_count": 22,
   "metadata": {},
   "outputs": [],
   "source": [
    "# Entferne \"(no genres listed)\" aus der Genre-Liste\n",
    "movies['genres'] = movies['genres'].replace('(no genres listed)', '')\n",
    "\n",
    "# Trenne die Genres in separate Listen\n",
    "genre_list = movies['genres'].str.split('|')\n",
    "\n",
    "# Finde alle einzigartigen Genres\n",
    "all_genres = set(genre for sublist in genre_list for genre in sublist if genre)\n",
    "\n",
    "# Erstelle für jedes Genre eine Spalte und fülle sie mit binären Werten\n",
    "for genre in all_genres:\n",
    "    movies[genre] = movies['genres'].apply(lambda x: int(genre in x.split('|')))\n",
    "\n",
    "# Entferne die ursprüngliche 'genres' Spalte\n",
    "movies = movies.drop(columns=['genres'])"
   ]
  },
  {
   "cell_type": "markdown",
   "metadata": {},
   "source": [
    "### Titel bereinigen"
   ]
  },
  {
   "cell_type": "code",
   "execution_count": 23,
   "metadata": {},
   "outputs": [],
   "source": [
    "# Extrahiere das Erscheinungsjahr aus dem Titel und füge es als neue Spalte hinzu\n",
    "movies['year'] = movies['title'].str.extract(r'\\((\\d{4})\\)')\n",
    "\n",
    "# Entferne das Erscheinungsjahr aus dem Titel\n",
    "movies['title'] = movies['title'].str.replace(r'\\s*\\(\\d{4}\\)', '', regex=True)"
   ]
  },
  {
   "cell_type": "markdown",
   "metadata": {},
   "source": [
    "### Merkmale zusammenführen"
   ]
  },
  {
   "cell_type": "code",
   "execution_count": 24,
   "metadata": {},
   "outputs": [
    {
     "name": "stdout",
     "output_type": "stream",
     "text": [
      "   movieId                        title  War  Sci-Fi  Horror  Western  \\\n",
      "0        1                    Toy Story    0       0       0        0   \n",
      "1        2                      Jumanji    0       0       0        0   \n",
      "2        3             Grumpier Old Men    0       0       0        0   \n",
      "3        4            Waiting to Exhale    0       0       0        0   \n",
      "4        5  Father of the Bride Part II    0       0       0        0   \n",
      "5        6                         Heat    0       0       0        0   \n",
      "6        7                      Sabrina    0       0       0        0   \n",
      "7        8                 Tom and Huck    0       0       0        0   \n",
      "8        9                 Sudden Death    0       0       0        0   \n",
      "9       10                    GoldenEye    0       0       0        0   \n",
      "\n",
      "   Children  Documentary  Fantasy  Action  ...    women  working class  \\\n",
      "0         1            0        1       0  ...  0.08925        0.05500   \n",
      "1         1            0        1       0  ...  0.13525        0.01800   \n",
      "2         0            0        0       0  ...  0.35075        0.02150   \n",
      "3         0            0        0       0  ...  0.97525        0.02075   \n",
      "4         0            0        0       0  ...  0.40225        0.01875   \n",
      "5         0            0        0       1  ...  0.10475        0.05575   \n",
      "6         0            0        0       0  ...  0.39650        0.04225   \n",
      "7         1            0        0       0  ...  0.24550        0.01475   \n",
      "8         0            0        0       1  ...  0.21450        0.01225   \n",
      "9         0            0        0       1  ...  0.36225        0.06975   \n",
      "\n",
      "   workplace  world politics  world war i  world war ii   writers  writing  \\\n",
      "0    0.07700         0.04050      0.01425      0.045625  0.088125  0.05775   \n",
      "1    0.08725         0.05250      0.01575      0.018750  0.071125  0.03275   \n",
      "2    0.07325         0.06275      0.01950      0.020437  0.072500  0.03475   \n",
      "3    0.38650         0.05325      0.02800      0.017500  0.110375  0.07050   \n",
      "4    0.11200         0.05350      0.02050      0.017000  0.108875  0.02675   \n",
      "5    0.14225         0.05075      0.01775      0.026750  0.133750  0.14850   \n",
      "6    0.08100         0.05125      0.02775      0.017937  0.085000  0.06300   \n",
      "7    0.04775         0.05950      0.02325      0.016187  0.156500  0.05650   \n",
      "8    0.07750         0.03475      0.00975      0.010937  0.080750  0.01600   \n",
      "9    0.11375         0.58850      0.02575      0.026000  0.085000  0.04600   \n",
      "\n",
      "     wuxia   zombies  \n",
      "0  0.03900  0.053375  \n",
      "1  0.02100  0.062500  \n",
      "2  0.01700  0.054375  \n",
      "3  0.01625  0.051750  \n",
      "4  0.01625  0.051500  \n",
      "5  0.03900  0.059125  \n",
      "6  0.01900  0.045500  \n",
      "7  0.01650  0.053750  \n",
      "8  0.01200  0.056125  \n",
      "9  0.02175  0.051250  \n",
      "\n",
      "[10 rows x 819 columns]\n"
     ]
    }
   ],
   "source": [
    "# Merge der Tag-Relevanzen mit dem Movies DataFrame\n",
    "movies_with_tags = pd.merge(movies, genome_pivot, on='movieId', how='left').fillna(0)\n",
    "print(movies_with_tags.head(10))"
   ]
  },
  {
   "cell_type": "markdown",
   "metadata": {},
   "source": [
    "### Nach Null-Werten suchen"
   ]
  },
  {
   "cell_type": "code",
   "execution_count": 25,
   "metadata": {},
   "outputs": [
    {
     "name": "stdout",
     "output_type": "stream",
     "text": [
      "<class 'pandas.core.frame.DataFrame'>\n",
      "RangeIndex: 62423 entries, 0 to 62422\n",
      "Data columns (total 22 columns):\n",
      " #   Column       Non-Null Count  Dtype \n",
      "---  ------       --------------  ----- \n",
      " 0   movieId      62423 non-null  int64 \n",
      " 1   title        62423 non-null  object\n",
      " 2   War          62423 non-null  int64 \n",
      " 3   Sci-Fi       62423 non-null  int64 \n",
      " 4   Horror       62423 non-null  int64 \n",
      " 5   Western      62423 non-null  int64 \n",
      " 6   Children     62423 non-null  int64 \n",
      " 7   Documentary  62423 non-null  int64 \n",
      " 8   Fantasy      62423 non-null  int64 \n",
      " 9   Action       62423 non-null  int64 \n",
      " 10  Film-Noir    62423 non-null  int64 \n",
      " 11  Comedy       62423 non-null  int64 \n",
      " 12  Musical      62423 non-null  int64 \n",
      " 13  Drama        62423 non-null  int64 \n",
      " 14  Adventure    62423 non-null  int64 \n",
      " 15  Crime        62423 non-null  int64 \n",
      " 16  Romance      62423 non-null  int64 \n",
      " 17  IMAX         62423 non-null  int64 \n",
      " 18  Animation    62423 non-null  int64 \n",
      " 19  Mystery      62423 non-null  int64 \n",
      " 20  Thriller     62423 non-null  int64 \n",
      " 21  year         62013 non-null  object\n",
      "dtypes: int64(20), object(2)\n",
      "memory usage: 10.5+ MB\n"
     ]
    },
    {
     "data": {
      "text/plain": [
       "movieId          0\n",
       "title            0\n",
       "War              0\n",
       "Sci-Fi           0\n",
       "Horror           0\n",
       "Western          0\n",
       "Children         0\n",
       "Documentary      0\n",
       "Fantasy          0\n",
       "Action           0\n",
       "Film-Noir        0\n",
       "Comedy           0\n",
       "Musical          0\n",
       "Drama            0\n",
       "Adventure        0\n",
       "Crime            0\n",
       "Romance          0\n",
       "IMAX             0\n",
       "Animation        0\n",
       "Mystery          0\n",
       "Thriller         0\n",
       "year           410\n",
       "dtype: int64"
      ]
     },
     "execution_count": 25,
     "metadata": {},
     "output_type": "execute_result"
    }
   ],
   "source": [
    "movies.info()\n",
    "movies.isnull().sum()"
   ]
  },
  {
   "cell_type": "code",
   "execution_count": 26,
   "metadata": {},
   "outputs": [],
   "source": [
    "# numeric_cols = movies.select_dtypes(include=[float, int]).columns\n",
    "# corr_matrix = movies[numeric_cols].corr()\n",
    "\n",
    "# plt.figure(figsize=(12, 10))\n",
    "# sns.heatmap(corr_matrix, annot=True, fmt=\".2f\", cmap='coolwarm')\n",
    "# plt.show()\n",
    "\n",
    "# print(movies[movies['title'].str.contains(\"Toy Story\", case=False, na=False)])"
   ]
  },
  {
   "cell_type": "markdown",
   "metadata": {},
   "source": [
    "Movies without year"
   ]
  },
  {
   "cell_type": "code",
   "execution_count": 33,
   "metadata": {},
   "outputs": [
    {
     "name": "stdout",
     "output_type": "stream",
     "text": [
      "Movies without year saved to 'movies_without_year.csv'\n"
     ]
    }
   ],
   "source": [
    "# Filme ohne Erscheinungsjahr ausgeben\n",
    "movies_without_year = movies[movies['year'].isna()]\n",
    "# print(movies_without_year)\n",
    "# print(movies['year'].isna().sum())\n",
    "\n",
    "movies_without_year.to_csv('movies_without_year.csv', index=False)\n",
    "print(\"Movies without year saved to 'movies_without_year.csv'\")\n",
    "\n",
    "# Entferne Filme ohne Erscheinungsjahr\n",
    "movies = movies.dropna(subset=['year'])\n",
    "movies.isnull().sum()"
   ]
  },
  {
   "cell_type": "markdown",
   "metadata": {},
   "source": [
    "### Feature Set 1: Genre"
   ]
  },
  {
   "cell_type": "code",
   "execution_count": 1,
   "metadata": {},
   "outputs": [
    {
     "ename": "NameError",
     "evalue": "name 'all_genres' is not defined",
     "output_type": "error",
     "traceback": [
      "\u001b[1;31m---------------------------------------------------------------------------\u001b[0m",
      "\u001b[1;31mNameError\u001b[0m                                 Traceback (most recent call last)",
      "Cell \u001b[1;32mIn[1], line 2\u001b[0m\n\u001b[0;32m      1\u001b[0m \u001b[38;5;66;03m# Berechnung der Cosine Similarity basierend auf den Genres\u001b[39;00m\n\u001b[1;32m----> 2\u001b[0m genre_columns \u001b[38;5;241m=\u001b[39m \u001b[38;5;28mlist\u001b[39m(\u001b[43mall_genres\u001b[49m)  \n\u001b[0;32m      3\u001b[0m genre_matrix \u001b[38;5;241m=\u001b[39m movies_with_tags[genre_columns]\u001b[38;5;241m.\u001b[39mvalues\n\u001b[0;32m      4\u001b[0m cosine_sim \u001b[38;5;241m=\u001b[39m cosine_similarity(genre_matrix, genre_matrix)\n",
      "\u001b[1;31mNameError\u001b[0m: name 'all_genres' is not defined"
     ]
    }
   ],
   "source": [
    "# Berechnung der Cosine Similarity basierend auf den Genres\n",
    "genre_columns = list(all_genres)  \n",
    "genre_matrix = movies_with_tags[genre_columns].values\n",
    "cosine_sim = cosine_similarity(genre_matrix, genre_matrix)\n",
    "\n",
    "# Funktion zur Empfehlung von Filmen basierend auf Genres\n",
    "def recommend_movies_by_genre(movie_title, cosine_sim=cosine_sim):\n",
    "    # Index des eingegebenen Films finden\n",
    "    idx = movies_with_tags[movies_with_tags['title'] == movie_title].index[0]\n",
    "    \n",
    "    # Ähnlichkeitsscores des Films mit allen anderen Filmen\n",
    "    sim_scores = list(enumerate(cosine_sim[idx]))\n",
    "    \n",
    "    # Sortierung der Filme basierend auf der Ähnlichkeit\n",
    "    sim_scores = sorted(sim_scores, key=lambda x: x[1], reverse=True)\n",
    "    \n",
    "    # Indizes der 10 ähnlichsten Filme erhalten\n",
    "    sim_scores = sim_scores[1:11]\n",
    "    \n",
    "    # Filmtitel der 10 ähnlichsten Filme ausgeben\n",
    "    movie_indices = [i[0] for i in sim_scores]\n",
    "    return movies_with_tags['title'].iloc[movie_indices]\n",
    "\n",
    "recommended_movies = recommend_movies_by_genre('Toy Story')\n",
    "print(recommended_movies)\n"
   ]
  },
  {
   "cell_type": "markdown",
   "metadata": {},
   "source": [
    "### Test"
   ]
  },
  {
   "cell_type": "code",
   "execution_count": null,
   "metadata": {},
   "outputs": [],
   "source": [
    "recommended_movies = recommend_movies_by_genre('Toy Story')\n",
    "print(recommended_movies)"
   ]
  }
 ],
 "metadata": {
  "kernelspec": {
   "display_name": "Python 3",
   "language": "python",
   "name": "python3"
  },
  "language_info": {
   "codemirror_mode": {
    "name": "ipython",
    "version": 3
   },
   "file_extension": ".py",
   "mimetype": "text/x-python",
   "name": "python",
   "nbconvert_exporter": "python",
   "pygments_lexer": "ipython3",
   "version": "3.12.2"
  }
 },
 "nbformat": 4,
 "nbformat_minor": 2
}
