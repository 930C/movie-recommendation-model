{
 "cells": [
  {
   "cell_type": "markdown",
   "metadata": {},
   "source": [
    "# Content-based Filtering\n",
    "\n",
    "### Loading Libraries"
   ]
  },
  {
   "cell_type": "code",
   "execution_count": 7,
   "metadata": {},
   "outputs": [],
   "source": [
    "import pandas as pd\n",
    "from sklearn.metrics.pairwise import cosine_similarity\n",
    "import warnings\n",
    "import numpy as np\n",
    "warnings.filterwarnings('ignore')"
   ]
  },
  {
   "cell_type": "markdown",
   "metadata": {},
   "source": [
    "### Loading Datasets"
   ]
  },
  {
   "cell_type": "code",
   "execution_count": 8,
   "metadata": {},
   "outputs": [
    {
     "name": "stdout",
     "output_type": "stream",
     "text": [
      "Index(['movieId', 'title', 'genres'], dtype='object')\n"
     ]
    }
   ],
   "source": [
    "movies = pd.read_csv('../data/ml-25m/movies.csv')\n",
    "movies_with_genres = pd.read_csv('../data/movies_with_genres.csv')\n",
    "movies_with_year = pd.read_csv('../data/movies_with_year.csv', sep=';')\n",
    "print(movies.columns)"
   ]
  },
  {
   "cell_type": "markdown",
   "metadata": {},
   "source": [
    "### Titel bereinigen"
   ]
  },
  {
   "cell_type": "code",
   "execution_count": 9,
   "metadata": {},
   "outputs": [],
   "source": [
    "# Extrahiere das Erscheinungsjahr aus dem Titel und füge es als neue Spalte hinzu\n",
    "movies['year'] = movies['title'].str.extract(r'\\((\\d{4})\\)')\n",
    "\n",
    "# Entferne das Erscheinungsjahr aus dem Titel\n",
    "movies['title'] = movies['title'].str.replace(r'\\s*\\(\\d{4}\\)', '', regex=True)"
   ]
  },
  {
   "cell_type": "markdown",
   "metadata": {},
   "source": [
    "movies without year"
   ]
  },
  {
   "cell_type": "code",
   "execution_count": 10,
   "metadata": {},
   "outputs": [
    {
     "name": "stdout",
     "output_type": "stream",
     "text": [
      "the number of movies without year is:  410\n",
      "the number of movies without year is:  83\n",
      "Movies without year saved to 'movies_without_year1.csv'\n",
      "   movieId                        title  \\\n",
      "0        1                    Toy Story   \n",
      "1        2                      Jumanji   \n",
      "2        3             Grumpier Old Men   \n",
      "3        4            Waiting to Exhale   \n",
      "4        5  Father of the Bride Part II   \n",
      "\n",
      "                                        genres  year  \n",
      "0  Adventure|Animation|Children|Comedy|Fantasy  1995  \n",
      "1                   Adventure|Children|Fantasy  1995  \n",
      "2                               Comedy|Romance  1995  \n",
      "3                         Comedy|Drama|Romance  1995  \n",
      "4                                       Comedy  1995  \n"
     ]
    }
   ],
   "source": [
    "# Filme ohne Erscheinungsjahr ausgeben\n",
    "movies_without_year = movies[movies['year'].isna()]\n",
    "\n",
    "\n",
    "print(\"the number of movies without year is: \", movies['year'].isna().sum())\n",
    "\n",
    "# Füge die fehlenden Jahre aus der neuen CSV-Datei ein, basierend auf den Titeln\n",
    "movies['year'] = movies.apply(\n",
    "    lambda row: movies_with_year[movies_with_year['title'] == row['title']]['year'].values[0]\n",
    "    if pd.isnull(row['year']) and row['title'] in movies_with_year ['title'].values\n",
    "    else row['year'],\n",
    "    axis=1\n",
    ")\n",
    "\n",
    "# Filme ohne Erscheinungsjahr ausgeben\n",
    "movies_without_year1 = movies[movies['year'].isna()]\n",
    "\n",
    "print(\"the number of movies without year is: \", movies['year'].isna().sum())\n",
    "\n",
    "movies_without_year1.to_csv('movies_without_year1.csv', index=False)\n",
    "print(\"Movies without year saved to 'movies_without_year1.csv'\")\n",
    "\n",
    "\n",
    "# Entferne Filme ohne Erscheinungsjahr\n",
    "movies = movies.dropna(subset=['year'])\n",
    "movies.isnull().sum()\n",
    "\n",
    "print(movies.head(5))"
   ]
  },
  {
   "cell_type": "markdown",
   "metadata": {},
   "source": [
    "### Genres aufbereiten\n"
   ]
  },
  {
   "cell_type": "code",
   "execution_count": 11,
   "metadata": {},
   "outputs": [
    {
     "name": "stdout",
     "output_type": "stream",
     "text": [
      "Anzahl der Filme mit '(no genres listed)': 5002\n",
      "Anzahl der Filme mit '(no genres listed)': 1257\n",
      "   movieId                        title  year  Sport  Western  Drama  Comedy  \\\n",
      "0        1                    Toy Story  1995      0        0      0       1   \n",
      "1        2                      Jumanji  1995      0        0      0       0   \n",
      "2        3             Grumpier Old Men  1995      0        0      0       1   \n",
      "3        4            Waiting to Exhale  1995      0        0      1       1   \n",
      "4        5  Father of the Bride Part II  1995      0        0      0       1   \n",
      "\n",
      "   Sci-Fi  Horror  Documentary  ...  Fantasy  Reality-TV  Thriller  War  \\\n",
      "0       0       0            0  ...        1           0         0    0   \n",
      "1       0       0            0  ...        1           0         0    0   \n",
      "2       0       0            0  ...        0           0         0    0   \n",
      "3       0       0            0  ...        0           0         0    0   \n",
      "4       0       0            0  ...        0           0         0    0   \n",
      "\n",
      "   Family  Short  Adult  Game-Show  IMAX  Action  \n",
      "0       0      0      0          0     0       0  \n",
      "1       0      0      0          0     0       0  \n",
      "2       0      0      0          0     0       0  \n",
      "3       0      0      0          0     0       0  \n",
      "4       0      0      0          0     0       0  \n",
      "\n",
      "[5 rows x 32 columns]\n",
      "Index(['movieId', 'title', 'year', 'Sport', 'Western', 'Drama', 'Comedy',\n",
      "       'Sci-Fi', 'Horror', 'Documentary', 'Crime', 'Film-Noir', 'Adventure',\n",
      "       'Musical', 'Biography', 'Animation', 'Mystery', 'History', 'Music',\n",
      "       'Children', 'Romance', 'News', 'Fantasy', 'Reality-TV', 'Thriller',\n",
      "       'War', 'Family', 'Short', 'Adult', 'Game-Show', 'IMAX', 'Action'],\n",
      "      dtype='object')\n"
     ]
    }
   ],
   "source": [
    "print(\"Anzahl der Filme mit '(no genres listed)':\", movies[movies['genres'] == '(no genres listed)'].shape[0])\n",
    "\n",
    "# Zusammenführen der DataFrames basierend auf den Titeln und Jahren\n",
    "movies_updated = pd.merge(movies, movies_with_genres[['title', 'year', 'genres']], on=['title', 'year'], how='left', suffixes=('', '_new'))\n",
    "\n",
    "# Aktualisieren der Genres im movies DataFrame nur für die übereinstimmenden Einträge\n",
    "movies_updated['genres'] = movies_updated['genres_new'].combine_first(movies_updated['genres'])\n",
    "\n",
    "# Entferne die temporäre Spalte\n",
    "movies_updated = movies_updated.drop(columns=['genres_new'])\n",
    "movies = movies_updated\n",
    "\n",
    "print(\"Anzahl der Filme mit '(no genres listed)':\", movies[movies['genres'] == '(no genres listed)'].shape[0])\n",
    "\n",
    "# Entferne \"(no genres listed)\" aus der Genre-Liste\n",
    "movies['genres'] = movies['genres'].replace('(no genres listed)', '')\n",
    "\n",
    "# Trenne die Genres in separate Listen\n",
    "genre_list = movies['genres'].str.split('|')\n",
    "\n",
    "# Finde alle einzigartigen Genres\n",
    "all_genres = set(genre for sublist in genre_list for genre in sublist if genre)\n",
    "\n",
    "# Erstelle für jedes Genre eine Spalte und fülle sie mit binären Werten\n",
    "for genre in all_genres:\n",
    "    movies[genre] = movies['genres'].apply(lambda x: int(genre in x.split('|')))\n",
    "\n",
    "# Entferne die ursprüngliche 'genres' Spalte\n",
    "movies = movies.drop(columns=['genres'])\n",
    "\n",
    "print(movies.head(1))"
   ]
  },
  {
   "cell_type": "markdown",
   "metadata": {},
   "source": [
    "### Nach Null-Werten suchen"
   ]
  },
  {
   "cell_type": "code",
   "execution_count": 12,
   "metadata": {},
   "outputs": [
    {
     "name": "stdout",
     "output_type": "stream",
     "text": [
      "<class 'pandas.core.frame.DataFrame'>\n",
      "RangeIndex: 62340 entries, 0 to 62339\n",
      "Data columns (total 32 columns):\n",
      " #   Column       Non-Null Count  Dtype \n",
      "---  ------       --------------  ----- \n",
      " 0   movieId      62340 non-null  int64 \n",
      " 1   title        62340 non-null  object\n",
      " 2   year         62340 non-null  object\n",
      " 3   Sport        62340 non-null  int64 \n",
      " 4   Western      62340 non-null  int64 \n",
      " 5   Drama        62340 non-null  int64 \n",
      " 6   Comedy       62340 non-null  int64 \n",
      " 7   Sci-Fi       62340 non-null  int64 \n",
      " 8   Horror       62340 non-null  int64 \n",
      " 9   Documentary  62340 non-null  int64 \n",
      " 10  Crime        62340 non-null  int64 \n",
      " 11  Film-Noir    62340 non-null  int64 \n",
      " 12  Adventure    62340 non-null  int64 \n",
      " 13  Musical      62340 non-null  int64 \n",
      " 14  Biography    62340 non-null  int64 \n",
      " 15  Animation    62340 non-null  int64 \n",
      " 16  Mystery      62340 non-null  int64 \n",
      " 17  History      62340 non-null  int64 \n",
      " 18  Music        62340 non-null  int64 \n",
      " 19  Children     62340 non-null  int64 \n",
      " 20  Romance      62340 non-null  int64 \n",
      " 21  News         62340 non-null  int64 \n",
      " 22  Fantasy      62340 non-null  int64 \n",
      " 23  Reality-TV   62340 non-null  int64 \n",
      " 24  Thriller     62340 non-null  int64 \n",
      " 25  War          62340 non-null  int64 \n",
      " 26  Family       62340 non-null  int64 \n",
      " 27  Short        62340 non-null  int64 \n",
      " 28  Adult        62340 non-null  int64 \n",
      " 29  Game-Show    62340 non-null  int64 \n",
      " 30  IMAX         62340 non-null  int64 \n",
      " 31  Action       62340 non-null  int64 \n",
      "dtypes: int64(30), object(2)\n",
      "memory usage: 15.2+ MB\n"
     ]
    },
    {
     "data": {
      "text/plain": [
       "movieId        0\n",
       "title          0\n",
       "year           0\n",
       "Sport          0\n",
       "Western        0\n",
       "Drama          0\n",
       "Comedy         0\n",
       "Sci-Fi         0\n",
       "Horror         0\n",
       "Documentary    0\n",
       "Crime          0\n",
       "Film-Noir      0\n",
       "Adventure      0\n",
       "Musical        0\n",
       "Biography      0\n",
       "Animation      0\n",
       "Mystery        0\n",
       "History        0\n",
       "Music          0\n",
       "Children       0\n",
       "Romance        0\n",
       "News           0\n",
       "Fantasy        0\n",
       "Reality-TV     0\n",
       "Thriller       0\n",
       "War            0\n",
       "Family         0\n",
       "Short          0\n",
       "Adult          0\n",
       "Game-Show      0\n",
       "IMAX           0\n",
       "Action         0\n",
       "dtype: int64"
      ]
     },
     "execution_count": 12,
     "metadata": {},
     "output_type": "execute_result"
    }
   ],
   "source": [
    "movies.info()\n",
    "movies.isnull().sum()"
   ]
  },
  {
   "cell_type": "markdown",
   "metadata": {},
   "source": [
    "### Feature Set: Genre"
   ]
  },
  {
   "cell_type": "code",
   "execution_count": 13,
   "metadata": {},
   "outputs": [],
   "source": [
    "def normalize_title(title):\n",
    "    articles = ['the', 'a', 'an']\n",
    "    words = title.strip().split()\n",
    "    if words[-1].strip(\",\").lower() in articles:\n",
    "        return title.strip().lower()\n",
    "    if words[0].lower() in articles:\n",
    "        return ', '.join(words[1:]) + ', ' + words[0].capitalize()\n",
    "    return title.lower()\n",
    "\n",
    "def alternate_title_format(title):\n",
    "    articles = ['the', 'a', 'an']\n",
    "    words = title.strip().split()\n",
    "    if words[0].lower() in articles:\n",
    "        return ', '.join(words[1:]) + ', ' + words[0].capitalize()\n",
    "    if words[-1].strip(\",\").lower() in articles:\n",
    "        return words[-1].capitalize() + ' ' + ' '.join(words[:-1]).replace(',', '')\n",
    "    return title.lower()\n",
    "\n",
    "def get_movie_features(movies, title, year):\n",
    "    # Bereinigen und Normalisieren des Titels\n",
    "    normalized_title = normalize_title(title)\n",
    "    alternate_title = alternate_title_format(normalized_title)\n",
    "\n",
    "    \n",
    "    # Normalisieren der Titelspalte des DataFrames\n",
    "    movies['title'] = movies['title'].str.strip().str.lower()\n",
    "    \n",
    "    # Sicherstellen, dass die Jahr-Spalte als numerisch behandelt wird\n",
    "    movies['year'] = pd.to_numeric(movies['year'], errors='coerce')\n",
    "\n",
    "    # Filtern der Filme nach Titel und Jahr\n",
    "    filtered_movies = movies[((movies['title'] == normalized_title.lower()) | (movies['title'] == alternate_title.lower())) & (movies['year'] == year)]\n",
    "    if not filtered_movies.empty:\n",
    "        return filtered_movies.iloc[0]\n",
    "    else:\n",
    "        print(f\"{title} ({year}) not found\")\n",
    "        return None\n",
    "\n",
    "\n",
    "def recommend_movies(user_rated_movies, cinema_movies):\n",
    "    \n",
    "    # Schritt 1: Extrahieren der Merkmale der vom Nutzer bewerteten Filme\n",
    "    user_movie_features = []\n",
    "    has_positive_ratings = any(movie['rating'] >= 2.5 for movie in user_rated_movies)\n",
    "\n",
    "    for movie in user_rated_movies:\n",
    "        if has_positive_ratings and movie['rating'] >= 2.5:\n",
    "            features = get_movie_features(movies, movie['title'], movie['year'])\n",
    "            if features is not None:\n",
    "                user_movie_features.append(features.drop(['movieId', 'title', 'year']).values)\n",
    "        elif not has_positive_ratings and movie['rating'] < 2.5:\n",
    "            features = get_movie_features(movies, movie['title'], movie['year'])\n",
    "            if features is not None:\n",
    "                user_movie_features.append(features.drop(['movieId', 'title', 'year']).values)\n",
    "    \n",
    "    # Schritt 2: Feature-Vektorisierung\n",
    "    if not user_movie_features:\n",
    "        raise ValueError(\"Keine positiv bewerteten Filme vorhanden.\")\n",
    "    \n",
    "    user_profile = np.mean(user_movie_features, axis=0)\n",
    "    \n",
    "    # Schritt 3: Ähnlichkeitsberechnung\n",
    "    kino_movie_features = []\n",
    "    for kino_movie in cinema_movies:\n",
    "        features = get_movie_features(movies, kino_movie['title'], kino_movie['year'])\n",
    "        if features is not None:\n",
    "            kino_movie_features.append(features.drop(['movieId', 'title', 'year']).values)\n",
    "    \n",
    "    if not kino_movie_features:\n",
    "        raise ValueError(\"Keine Kino-Filme mit passenden Features gefunden.\")\n",
    "    \n",
    "    similarities = cosine_similarity([user_profile], kino_movie_features)[0]\n",
    "    \n",
    "    # Schritt 4: Sortierung und Ausgabe\n",
    "    cinema_movies_with_similarity = []\n",
    "    for i, kino_movie in enumerate(cinema_movies):\n",
    "        kino_movie_with_similarity = kino_movie.copy()\n",
    "        kino_movie_with_similarity['similarity'] = similarities[i]\n",
    "        cinema_movies_with_similarity.append(kino_movie_with_similarity)\n",
    "    \n",
    "    if has_positive_ratings:\n",
    "        sorted_cinema_movies = sorted(cinema_movies_with_similarity, key=lambda x: x['similarity'], reverse=True)\n",
    "    else:\n",
    "        sorted_cinema_movies = sorted(cinema_movies_with_similarity, key=lambda x: x['similarity'])\n",
    "    \n",
    "    return sorted_cinema_movies"
   ]
  },
  {
   "cell_type": "markdown",
   "metadata": {},
   "source": [
    "### Test"
   ]
  },
  {
   "cell_type": "code",
   "execution_count": 14,
   "metadata": {},
   "outputs": [
    {
     "name": "stdout",
     "output_type": "stream",
     "text": [
      "Title: Bohemian Rhapsody, Year: 2018, Similarity: 0.2294\n",
      "Title: Aquaman, Year: 2018, Similarity: 0.3974\n",
      "Title: Crazy Rich Asians, Year: 2018, Similarity: 0.4588\n",
      "Title: The Meg, Year: 2018, Similarity: 0.4588\n",
      "Title: A Star Is Born, Year: 2018, Similarity: 0.4867\n",
      "Title: Ready Player One, Year: 2018, Similarity: 0.5298\n",
      "Title: Spider-Man: Into the Spider-Verse, Year: 2018, Similarity: 0.5735\n",
      "Title: Solo: A Star Wars Story, Year: 2018, Similarity: 0.5735\n",
      "Title: Black Panther, Year: 2017, Similarity: 0.6623\n",
      "Title: Avengers: Infinity War - Part I, Year: 2018, Similarity: 0.6623\n",
      "Title: Deadpool 2, Year: 2018, Similarity: 0.6623\n",
      "Title: Mission: Impossible - Fallout, Year: 2018, Similarity: 0.6623\n",
      "Title: Jurassic World: Fallen Kingdom, Year: 2018, Similarity: 0.7182\n"
     ]
    }
   ],
   "source": [
    "# Beispiel-Daten\n",
    "user_rated_movies = [\n",
    "    {\"title\": \"Mad Max: Fury Road\", \"year\": 2015, \"rating\": 0.5},\n",
    "    {\"title\": \"Pride and Prejudice\", \"year\": 2003, \"rating\": 1.5},\n",
    "    {\"title\": \"La La Land\", \"year\": 2016, \"rating\": 2.0}\n",
    "]\n",
    "cinema_movies = [\n",
    "    {\"title\": \"Black Panther\", \"year\": 2017},\n",
    "    {\"title\": \"Avengers: Infinity War - Part I\", \"year\": 2018},\n",
    "    {\"title\": \"A Star Is Born\", \"year\": 2018},\n",
    "    {\"title\": \"Bohemian Rhapsody\", \"year\": 2018},\n",
    "    {\"title\": \"Deadpool 2\", \"year\": 2018},\n",
    "    {\"title\": \"Spider-Man: Into the Spider-Verse\", \"year\": 2018},\n",
    "    {\"title\": \"Crazy Rich Asians\", \"year\": 2018},\n",
    "    {\"title\": \"Mission: Impossible - Fallout\", \"year\": 2018},\n",
    "    {\"title\": \"Solo: A Star Wars Story\", \"year\": 2018},\n",
    "    {\"title\": \"Aquaman\", \"year\": 2018},\n",
    "    {\"title\": \"The Meg\", \"year\": 2018},\n",
    "    {\"title\": \"Ready Player One\", \"year\": 2018},\n",
    "    {\"title\": \"Jurassic World: Fallen Kingdom\", \"year\": 2018}\n",
    "]\n",
    "\n",
    "# Funktion aufrufen\n",
    "recommended_cinema_movies = recommend_movies(user_rated_movies, cinema_movies)\n",
    "for movie in recommended_cinema_movies:\n",
    "    print(f\"Title: {movie['title']}, Year: {movie['year']}, Similarity: {movie['similarity']:.4f}\")"
   ]
  }
 ],
 "metadata": {
  "kernelspec": {
   "display_name": "Python 3",
   "language": "python",
   "name": "python3"
  },
  "language_info": {
   "codemirror_mode": {
    "name": "ipython",
    "version": 3
   },
   "file_extension": ".py",
   "mimetype": "text/x-python",
   "name": "python",
   "nbconvert_exporter": "python",
   "pygments_lexer": "ipython3",
   "version": "3.12.4"
  }
 },
 "nbformat": 4,
 "nbformat_minor": 2
}
